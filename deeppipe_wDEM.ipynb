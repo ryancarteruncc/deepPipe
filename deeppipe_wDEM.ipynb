{
 "cells": [
  {
   "cell_type": "markdown",
   "metadata": {},
   "source": [
    "# Step One: Setup"
   ]
  },
  {
   "cell_type": "markdown",
   "metadata": {},
   "source": [
    "### Integrating Environmental Factors into Storm Water Structure Point Layer\n",
    "\n",
    "**Main Layer**: **Storm Water Structure Point Layer**\n",
    "\n",
    "#### Environmental Factors:\n",
    "1. **Distance to Stream**\n",
    "2. **Distance to Roads**\n",
    "3. **Digital Elevation Model (DEM)**\n"
   ]
  },
  {
   "cell_type": "markdown",
   "metadata": {},
   "source": [
    "### 1. Distance to Streams"
   ]
  },
  {
   "cell_type": "markdown",
   "metadata": {},
   "source": [
    "###### Source: https://www.nconemap.gov/datasets/e6b5694f81ed49c6a0f3600540f49878_0/explore?location=35.315422%2C-80.715475%2C14.61"
   ]
  },
  {
   "cell_type": "code",
   "execution_count": 25,
   "metadata": {},
   "outputs": [],
   "source": [
    "streamPath = r\"C:\\Users\\rcarte64\\Downloads\\Task3_DeepPipeScript\\01_dataTransformation\\01_streamDistance\\streamClipped.shp\""
   ]
  },
  {
   "cell_type": "markdown",
   "metadata": {},
   "source": [
    "### 2. Distance to Roads"
   ]
  },
  {
   "cell_type": "markdown",
   "metadata": {},
   "source": [
    "###### Source: https://connect.ncdot.gov/resources/gis/Pages/GIS-Data-Layers.aspx"
   ]
  },
  {
   "cell_type": "code",
   "execution_count": 26,
   "metadata": {},
   "outputs": [],
   "source": [
    "roadPath = r\"C:\\Users\\rcarte64\\Downloads\\Task3_DeepPipeScript\\01_dataTransformation\\02_roadsDistance\\roadsClipped.shp\""
   ]
  },
  {
   "cell_type": "markdown",
   "metadata": {},
   "source": [
    "### 3. Mecklenburg DEM"
   ]
  },
  {
   "cell_type": "markdown",
   "metadata": {},
   "source": [
    "###### Source: https://sdd.nc.gov/DownloadFiles.aspx?path=DEMMosaicsbyCounty/DEM50_CountywideRasters"
   ]
  },
  {
   "cell_type": "code",
   "execution_count": 27,
   "metadata": {},
   "outputs": [],
   "source": [
    "demPointsPath = r\"C:\\Users\\rcarte64\\Downloads\\Task3_DeepPipeScript\\01_dataTransformation\\03_meckDEM\\rasterToPoint.shp\"\n",
    "## The field for elevation seems to be grid_code \n",
    "## This is after taking the DEM raster into arcPro and using the raster to points function"
   ]
  },
  {
   "cell_type": "markdown",
   "metadata": {},
   "source": [
    "### 4. Storm Water Structures"
   ]
  },
  {
   "cell_type": "code",
   "execution_count": 28,
   "metadata": {},
   "outputs": [],
   "source": [
    "stormPath = r\"C:\\Users\\rcarte64\\Downloads\\Task3_DeepPipeScript\\00_theData\\inlet.csv\""
   ]
  },
  {
   "cell_type": "markdown",
   "metadata": {},
   "source": [
    "# Step Two: Coding"
   ]
  },
  {
   "cell_type": "markdown",
   "metadata": {},
   "source": [
    "### Import Statements"
   ]
  },
  {
   "cell_type": "code",
   "execution_count": 29,
   "metadata": {},
   "outputs": [],
   "source": [
    "import pandas as pd\n",
    "import geopandas as gpd\n",
    "import time\n",
    "from shapely.geometry import Point\n",
    "from rasterstats import point_query\n",
    "import rasterio\n",
    "from rasterio.warp import calculate_default_transform, reproject, Resampling\n",
    "from rasterio.crs import CRS\n",
    "import osgeo\n",
    "from osgeo import gdal\n",
    "from shapely.ops import nearest_points\n",
    "import fiona"
   ]
  },
  {
   "cell_type": "markdown",
   "metadata": {},
   "source": [
    "### Structures CSV into DataFrame"
   ]
  },
  {
   "cell_type": "code",
   "execution_count": 30,
   "metadata": {},
   "outputs": [],
   "source": [
    "stormpoints_df = pd.read_csv(stormPath)\n",
    "stormpoints_gdf = gpd.GeoDataFrame(\n",
    "    stormpoints_df,\n",
    "    geometry=gpd.points_from_xy(stormpoints_df['Longitude'], stormpoints_df['Latitude']),\n",
    "    crs=\"EPSG:2264\"\n",
    ")"
   ]
  },
  {
   "cell_type": "markdown",
   "metadata": {},
   "source": [
    "### Loading Road GDF"
   ]
  },
  {
   "cell_type": "code",
   "execution_count": 31,
   "metadata": {},
   "outputs": [
    {
     "name": "stderr",
     "output_type": "stream",
     "text": [
      "c:\\Users\\rcarte64\\AppData\\Local\\miniconda3\\envs\\myenv\\Lib\\site-packages\\pyogrio\\raw.py:196: UserWarning: Measured (M) geometry types are not supported. Original type 'Measured 3D LineString' is converted to 'LineString Z'\n",
      "  return ogr_read(\n"
     ]
    },
    {
     "name": "stdout",
     "output_type": "stream",
     "text": [
      "EPSG:2264\n",
      "EPSG:2264\n"
     ]
    }
   ],
   "source": [
    "roads_gdf = gpd.read_file(roadPath)\n",
    "\n",
    "target_crs = \"EPSG:2264\"\n",
    "stormpoints_gdf = stormpoints_gdf.to_crs(target_crs)\n",
    "print(stormpoints_gdf.crs)\n",
    "roads_gdf = roads_gdf.to_crs(target_crs)\n",
    "# roads_gdf was originally loaded as 6360 but GeoPandas can't handle Compound CRS\n",
    "print(roads_gdf.crs)\n",
    "\n"
   ]
  },
  {
   "cell_type": "markdown",
   "metadata": {},
   "source": [
    "### Distance to Nearest Road"
   ]
  },
  {
   "cell_type": "code",
   "execution_count": 32,
   "metadata": {},
   "outputs": [],
   "source": [
    "def min_distance_to_roads(stormpoint, roads):\n",
    "    return roads.distance(stormpoint).min()\n",
    "\n",
    "stormpoints_gdf['nearest_road'] = stormpoints_gdf['geometry'].apply(\n",
    "    lambda point: min_distance_to_roads(point, roads_gdf)\n",
    ")"
   ]
  },
  {
   "cell_type": "markdown",
   "metadata": {},
   "source": [
    "### Loading Streams GDF"
   ]
  },
  {
   "cell_type": "code",
   "execution_count": 33,
   "metadata": {},
   "outputs": [],
   "source": [
    "streams_gdf = gpd.read_file(streamPath)\n",
    "streams_gdf = streams_gdf.to_crs(target_crs)"
   ]
  },
  {
   "cell_type": "markdown",
   "metadata": {},
   "source": [
    "### Distance to Nearest Stream"
   ]
  },
  {
   "cell_type": "code",
   "execution_count": 34,
   "metadata": {},
   "outputs": [],
   "source": [
    "def min_distance_to_streams(stormpoint,streams):\n",
    "    return streams.distance(stormpoint).min()\n",
    "\n",
    "stormpoints_gdf['nearest_stream'] = stormpoints_gdf['geometry'].apply(\n",
    "    lambda point: min_distance_to_streams(point, streams_gdf)\n",
    ")\n",
    "    "
   ]
  },
  {
   "cell_type": "markdown",
   "metadata": {},
   "source": [
    "### DEM\n"
   ]
  },
  {
   "cell_type": "code",
   "execution_count": 35,
   "metadata": {},
   "outputs": [
    {
     "name": "stdout",
     "output_type": "stream",
     "text": [
      "PROJCS[\"NAD_1983_2011_StatePlane_North_Carolina_FIPS_3200_Ft_US\",GEOGCS[\"GCS_NAD_1983_2011\",DATUM[\"D_NAD_1983_2011\",SPHEROID[\"GRS_1980\",6378137,298.257222101]],PRIMEM[\"Greenwich\",0],UNIT[\"Degree\",0.0174532925199433]],PROJECTION[\"Lambert_Conformal_Conic_2SP\"],PARAMETER[\"latitude_of_origin\",33.75],PARAMETER[\"central_meridian\",-79],PARAMETER[\"standard_parallel_1\",34.3333333333333],PARAMETER[\"standard_parallel_2\",36.1666666666667],PARAMETER[\"false_easting\",2000000],PARAMETER[\"false_northing\",0],UNIT[\"Foot_US\",0.304800609601219],AXIS[\"Easting\",EAST],AXIS[\"Northing\",NORTH]]\n",
      "EPSG:2264\n"
     ]
    }
   ],
   "source": [
    "dem_gdf = gpd.read_file(demPointsPath)\n",
    "print (dem_gdf.crs)\n",
    "dem_gdf = dem_gdf.to_crs(target_crs)\n",
    "print (dem_gdf.crs)"
   ]
  },
  {
   "cell_type": "code",
   "execution_count": 36,
   "metadata": {},
   "outputs": [],
   "source": [
    "# dem_sindex = dem_gdf.sindex\n",
    "# def find_nearest_elevation(point, dem_df, dem_sindex):\n",
    "#     possible_matches_index = list(dem_sindex.nearest(point.bounds, 1))\n",
    "#     nearest_geom = dem_gdf.iloc[possible_matches_index].geometry.iloc[0]\n",
    "\n",
    "#     #Get value from grid_code field\n",
    "#     nearest_dem_point = dem_gdf[dem_gdf.geometry == nearest_geom].iloc[0]\n",
    "#     return nearest_dem_point['grid_code']"
   ]
  },
  {
   "cell_type": "code",
   "execution_count": 37,
   "metadata": {},
   "outputs": [],
   "source": [
    "# #Removing non-geometry objects\n",
    "# stormpoints_gdf = stormpoints_gdf[stormpoints_gdf.geometry.notnull()]\n",
    "# dem_gdf = dem_gdf[dem_gdf.geometry.notnull()]\n",
    "\n",
    "# # Fixing Invalid Geoms\n",
    "# stormpoints_gdf[\"geometry\"] = stormpoints_gdf.geometry.buffer(0)\n",
    "# dem_gdf[\"geometry\"] = dem_gdf.geometry.buffer(0)\n",
    "\n",
    "# #Nearest elevation -> each storm point\n",
    "# stormpoints_gdf['elevation'] = stormpoints_gdf.geometry.apply(\n",
    "#     lambda point: find_nearest_elevation(point, dem_gdf, dem_sindex)\n",
    "# )"
   ]
  },
  {
   "cell_type": "code",
   "execution_count": 38,
   "metadata": {},
   "outputs": [],
   "source": [
    "# print(stormpoints_gdf.geometry.is_valid)\n",
    "# print(dem_gdf.geometry.is_valid)"
   ]
  },
  {
   "cell_type": "code",
   "execution_count": 53,
   "metadata": {},
   "outputs": [
    {
     "name": "stdout",
     "output_type": "stream",
     "text": [
      "Type of stormpoints_gdf: <class 'geopandas.geodataframe.GeoDataFrame'>\n",
      "Type of dem_gdf: <class 'geopandas.geodataframe.GeoDataFrame'>\n",
      "Geometry column in stormpoints_gdf: geometry\n",
      "Geometry column in dem_gdf: geometry\n",
      "CRS of stormpoints_gdf: EPSG:2264\n",
      "CRS of dem_gdf: EPSG:2264\n",
      "Previewing the dem_gdf 'grid_code' column...\n",
      "                     geometry  grid_code\n",
      "0  POINT (1430025.001 654975)        783\n",
      "1  POINT (1430075.001 654975)        781\n",
      "2  POINT (1430125.001 654975)        770\n",
      "3  POINT (1430175.001 654975)        771\n",
      "4  POINT (1430225.001 654975)        771\n"
     ]
    }
   ],
   "source": [
    "# Verify input types\n",
    "print(\"Type of stormpoints_gdf:\", type(stormpoints_gdf))\n",
    "print(\"Type of dem_gdf:\", type(dem_gdf))\n",
    "\n",
    "# Verify geometry column\n",
    "print(\"Geometry column in stormpoints_gdf:\", stormpoints_gdf.geometry.name)\n",
    "print(\"Geometry column in dem_gdf:\", dem_gdf.geometry.name)\n",
    "\n",
    "# Verify the CRS\n",
    "print(\"CRS of stormpoints_gdf:\", stormpoints_gdf.crs)\n",
    "print(\"CRS of dem_gdf:\", dem_gdf.crs)\n",
    "\n",
    "# Ensure stormpoints_gdf is a GeoDataFrame\n",
    "if not isinstance(stormpoints_gdf, gpd.GeoDataFrame):\n",
    "    stormpoints_gdf = gpd.GeoDataFrame(stormpoints_gdf, geometry='geometry', crs=target_crs)\n",
    "\n",
    "print(\"Previewing the dem_gdf 'grid_code' column...\")\n",
    "print(dem_gdf[['geometry', 'grid_code']].head())\n",
    "\n"
   ]
  },
  {
   "cell_type": "code",
   "execution_count": 40,
   "metadata": {},
   "outputs": [],
   "source": [
    "# print(\"Starting the process...\")\n",
    "\n",
    "# # Load the GeoDataFrames\n",
    "# print(\"Loading storm points...\")\n",
    "# stormpoints_gdf = gpd.read_file(stormPath)\n",
    "# print(f\"Loaded {len(stormpoints_gdf)} storm points.\")\n",
    "\n",
    "# print(\"Loading DEM points...\")\n",
    "# dem_gdf = gpd.read_file(demPointsPath)\n",
    "# print(f\"Loaded {len(dem_gdf)} DEM points.\")\n",
    "\n",
    "# # # Ensure both GeoDataFrames have the same CRS\n",
    "# # print(\"Aligning CRS...\")\n",
    "# # if stormpoints_gdf.crs != target_crs:\n",
    "# #     stormpoints_gdf = stormpoints_gdf.to_crs(target_crs)\n",
    "# #     print(f\"Reprojected storm points to {target_crs}.\")\n",
    "# # if dem_gdf.crs != target_crs:\n",
    "# #     dem_gdf = dem_gdf.to_crs(target_crs)\n",
    "# #     print(f\"Reprojected DEM points to {target_crs}.\")\n",
    "\n",
    "# # Ensure valid geometries\n",
    "# # print(\"Validating geometries...\")\n",
    "# # stormpoints_gdf = stormpoints_gdf[stormpoints_gdf.geometry.notnull()]\n",
    "# # dem_gdf = dem_gdf[dem_gdf.geometry.notnull()]\n",
    "# # stormpoints_gdf[\"geometry\"] = stormpoints_gdf.geometry.buffer(0)\n",
    "# # dem_gdf[\"geometry\"] = dem_gdf.geometry.buffer(0)\n",
    "# # print(f\"Validated geometries: {len(stormpoints_gdf)} storm points and {len(dem_gdf)} DEM points remain.\")\n",
    "\n",
    "# # Perform a spatial join to find the nearest DEM point for each storm point\n",
    "# print(\"Finding nearest DEM points for each storm point...\")\n",
    "# stormpoints_with_elevation = gpd.sjoin_nearest(\n",
    "#     stormpoints_gdf,\n",
    "#     dem_gdf[['geometry', 'grid_code']],  # Only keep geometry and grid_code columns\n",
    "#     how=\"left\",\n",
    "#     distance_col=\"distance\"\n",
    "# )\n",
    "# print(\"Nearest DEM points found and joined with storm points.\")\n",
    "\n",
    "# # Rename the `grid_code` column to `elevation`\n",
    "# print(\"Renaming 'grid_code' to 'elevation'...\")\n",
    "# stormpoints_with_elevation = stormpoints_with_elevation.rename(columns={\"grid_code\": \"elevation\"})"
   ]
  },
  {
   "cell_type": "code",
   "execution_count": 50,
   "metadata": {},
   "outputs": [
    {
     "name": "stdout",
     "output_type": "stream",
     "text": [
      "Checking input GeoDataFrame types...\n",
      "stormpoints_gdf type: <class 'geopandas.geodataframe.GeoDataFrame'>\n",
      "dem_gdf type: <class 'geopandas.geodataframe.GeoDataFrame'>\n",
      "Checking geometry columns in inputs...\n",
      "stormpoints_gdf geometry column: geometry\n",
      "dem_gdf geometry column: geometry\n",
      "Performing spatial join...\n",
      "Checking output type...\n",
      "stormpoints_with_elevation type: <class 'geopandas.geodataframe.GeoDataFrame'>\n"
     ]
    }
   ],
   "source": [
    "# Check input GeoDataFrame types\n",
    "print(\"Checking input GeoDataFrame types...\")\n",
    "print(f\"stormpoints_gdf type: {type(stormpoints_gdf)}\")\n",
    "print(f\"dem_gdf type: {type(dem_gdf)}\")\n",
    "\n",
    "# Check geometry column in inputs\n",
    "print(\"Checking geometry columns in inputs...\")\n",
    "print(f\"stormpoints_gdf geometry column: {stormpoints_gdf.geometry.name}\")\n",
    "print(f\"dem_gdf geometry column: {dem_gdf.geometry.name}\")\n",
    "\n",
    "# Perform the spatial join\n",
    "print(\"Performing spatial join...\")\n",
    "stormpoints_with_elevation = gpd.sjoin_nearest(\n",
    "    stormpoints_gdf,\n",
    "    dem_gdf[['geometry', 'grid_code']],  # Only keep geometry and grid_code columns\n",
    "    how=\"left\",\n",
    "    distance_col=\"distance\"\n",
    ")\n",
    "\n",
    "# Check output type\n",
    "print(\"Checking output type...\")\n",
    "print(f\"stormpoints_with_elevation type: {type(stormpoints_with_elevation)}\")\n",
    "\n",
    "# Ensure geometry column exists in output\n",
    "if 'geometry' not in stormpoints_with_elevation.columns:\n",
    "    raise ValueError(\"The output of sjoin_nearest has lost its geometry column.\")\n",
    "\n",
    "# Check if the result is still a GeoDataFrame\n",
    "if not isinstance(stormpoints_with_elevation, gpd.GeoDataFrame):\n",
    "    stormpoints_with_elevation = gpd.GeoDataFrame(\n",
    "        stormpoints_with_elevation,\n",
    "        geometry=stormpoints_with_elevation['geometry'],\n",
    "        crs=stormpoints_gdf.crs\n",
    "    )\n",
    "\n",
    "# Rename the 'grid_code' column to 'elevation'\n",
    "stormpoints_with_elevation = stormpoints_with_elevation.rename(columns={\"grid_code\": \"elevation\"})\n"
   ]
  },
  {
   "cell_type": "code",
   "execution_count": 63,
   "metadata": {},
   "outputs": [
    {
     "name": "stdout",
     "output_type": "stream",
     "text": [
      "Columns after renaming:\n",
      "Index(['OBJECTID', 'Latitude', 'Longitude', 'Division', 'MaintSctn',\n",
      "       'RouteClass', 'RouteQuali', 'RouteNumbe', 'RouteInven', 'Milepost',\n",
      "       'GrateCount', 'LidLength', 'LidWidth', 'InvertCoun', 'lat', 'lon',\n",
      "       'geometry', 'nearest_road', 'nearest_stream', 'index_right',\n",
      "       'elevation', 'distance', 'distance_miles'],\n",
      "      dtype='object')\n",
      "Previewing stormpoints_with_elevation...\n",
      "                 geometry  elevation  distance_miles\n",
      "0  POINT (-78.966 34.988)        600      277.343504\n",
      "1  POINT (-78.966 34.989)        600      277.343504\n",
      "2  POINT (-78.966 34.989)        600      277.343504\n",
      "3  POINT (-78.966 34.989)        600      277.343504\n",
      "4  POINT (-78.966 34.989)        600      277.343504\n"
     ]
    }
   ],
   "source": [
    "# Verify the rename was successful\n",
    "print(\"Columns after renaming:\")\n",
    "print(stormpoints_with_elevation.columns)\n",
    "\n",
    "# Convert distance from feet to miles\n",
    "stormpoints_with_elevation[\"distance_miles\"] = stormpoints_with_elevation[\"distance\"] / 5280\n",
    "\n",
    "print(\"Previewing stormpoints_with_elevation...\")\n",
    "print(stormpoints_with_elevation[['geometry', 'elevation','distance_miles']].head(5))\n"
   ]
  },
  {
   "cell_type": "code",
   "execution_count": 59,
   "metadata": {},
   "outputs": [
    {
     "name": "stdout",
     "output_type": "stream",
     "text": [
      "CRS details:\n",
      "EPSG:2264\n"
     ]
    }
   ],
   "source": [
    "print(\"CRS details:\")\n",
    "print(stormpoints_gdf.crs)"
   ]
  },
  {
   "cell_type": "markdown",
   "metadata": {},
   "source": [
    "# Step Three: Export\n"
   ]
  },
  {
   "cell_type": "markdown",
   "metadata": {},
   "source": [
    "### Results to CSV"
   ]
  },
  {
   "cell_type": "code",
   "execution_count": 43,
   "metadata": {},
   "outputs": [],
   "source": [
    "outputPath = r\"C:\\Users\\rcarte64\\Downloads\\Task3_DeepPipeScript\\03_outputTesting\\roads_streams_DEM_Test.csv\""
   ]
  },
  {
   "cell_type": "code",
   "execution_count": 46,
   "metadata": {},
   "outputs": [],
   "source": [
    "output_df = stormpoints_with_elevation[['OBJECTID', 'Latitude', 'Longitude', 'nearest_road','nearest_stream','elevation']]\n",
    "output_df.to_csv(outputPath)"
   ]
  }
 ],
 "metadata": {
  "kernelspec": {
   "display_name": "Python 3",
   "language": "python",
   "name": "python3"
  },
  "language_info": {
   "codemirror_mode": {
    "name": "ipython",
    "version": 3
   },
   "file_extension": ".py",
   "mimetype": "text/x-python",
   "name": "python",
   "nbconvert_exporter": "python",
   "pygments_lexer": "ipython3",
   "version": "3.11.10"
  }
 },
 "nbformat": 4,
 "nbformat_minor": 2
}
